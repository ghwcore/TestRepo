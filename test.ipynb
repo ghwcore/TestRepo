{
  "cells": [
    {
      "cell_type": "markdown",
      "metadata": {
        "id": "view-in-github",
        "colab_type": "text"
      },
      "source": [
        "<a href=\"https://colab.research.google.com/github/ghwcore/TestRepo/blob/master/test.ipynb\" target=\"_parent\"><img src=\"https://colab.research.google.com/assets/colab-badge.svg\" alt=\"Open In Colab\"/></a>"
      ]
    },
    {
      "cell_type": "code",
      "execution_count": null,
      "id": "c757f276-eaf6-49c8-847e-d9ed0ca0cca0",
      "metadata": {
        "id": "c757f276-eaf6-49c8-847e-d9ed0ca0cca0",
        "outputId": "129b3448-3e2f-4cce-d97f-7460a9ed640f"
      },
      "outputs": [
        {
          "name": "stdout",
          "output_type": "stream",
          "text": [
            "Welcome to BIOS-584!\n"
          ]
        }
      ],
      "source": [
        "print('Welcome to BIOS-584!')"
      ]
    },
    {
      "cell_type": "code",
      "source": [
        "#this will work."
      ],
      "metadata": {
        "id": "VwKQI243B_kf"
      },
      "id": "VwKQI243B_kf",
      "execution_count": null,
      "outputs": []
    },
    {
      "cell_type": "code",
      "execution_count": null,
      "id": "14cab663-2d80-4dbe-ab40-b00fefb57d96",
      "metadata": {
        "id": "14cab663-2d80-4dbe-ab40-b00fefb57d96"
      },
      "outputs": [],
      "source": [
        "#Practice list"
      ]
    },
    {
      "cell_type": "code",
      "execution_count": null,
      "id": "af1c886c-8a14-422e-bb42-7b82f1af0485",
      "metadata": {
        "id": "af1c886c-8a14-422e-bb42-7b82f1af0485",
        "outputId": "2d061a61-d2c8-4cce-f95a-1ff516e2c947"
      },
      "outputs": [
        {
          "name": "stdout",
          "output_type": "stream",
          "text": [
            "['water', 'purgatory', 'sun', 'light magic']\n"
          ]
        }
      ],
      "source": [
        "list_enemies = ['water', 'purgatory', 'sun', 'light magic']\n",
        "print(list_enemies)"
      ]
    },
    {
      "cell_type": "code",
      "execution_count": null,
      "id": "818e0f6f-3141-41da-8f47-8627f24b7396",
      "metadata": {
        "id": "818e0f6f-3141-41da-8f47-8627f24b7396",
        "outputId": "d09da7f3-2538-404a-b732-2a45cde589a3"
      },
      "outputs": [
        {
          "name": "stdout",
          "output_type": "stream",
          "text": [
            "['water', 'purgatory', 'sun', 'light magic', 'sleep']\n"
          ]
        }
      ],
      "source": [
        "list_enemies.append('sleep')\n",
        "print(list_enemies)"
      ]
    },
    {
      "cell_type": "code",
      "execution_count": null,
      "id": "9e286550-d731-43ac-af8f-ca40cfaf57ca",
      "metadata": {
        "id": "9e286550-d731-43ac-af8f-ca40cfaf57ca",
        "outputId": "300067f0-9590-4822-d563-70361d95c4c3"
      },
      "outputs": [
        {
          "data": {
            "text/plain": [
              "1"
            ]
          },
          "execution_count": 12,
          "metadata": {},
          "output_type": "execute_result"
        }
      ],
      "source": [
        "list_enemies.count('sun')"
      ]
    },
    {
      "cell_type": "code",
      "execution_count": null,
      "id": "de9e2c5d-fb80-453a-9f73-d036b2e7789f",
      "metadata": {
        "id": "de9e2c5d-fb80-453a-9f73-d036b2e7789f",
        "outputId": "8283710e-3c39-4298-f369-2dbae614df85"
      },
      "outputs": [
        {
          "data": {
            "text/plain": [
              "3"
            ]
          },
          "execution_count": 13,
          "metadata": {},
          "output_type": "execute_result"
        }
      ],
      "source": [
        "list_enemies.index('light magic')"
      ]
    },
    {
      "cell_type": "code",
      "execution_count": null,
      "id": "e64b54f3-dce0-4ba3-9f0c-cc8b4d645f24",
      "metadata": {
        "id": "e64b54f3-dce0-4ba3-9f0c-cc8b4d645f24"
      },
      "outputs": [],
      "source": [
        "list_enemies.insert(2, 'spicy food')"
      ]
    },
    {
      "cell_type": "code",
      "execution_count": null,
      "id": "5addad65-f409-4c64-9d88-5d1e53fb04a1",
      "metadata": {
        "id": "5addad65-f409-4c64-9d88-5d1e53fb04a1",
        "outputId": "f0fad7de-ed10-456e-952e-1c946910b05d"
      },
      "outputs": [
        {
          "name": "stdout",
          "output_type": "stream",
          "text": [
            "['water', 'purgatory', 'spicy food', 'sun', 'light magic', 'sleep']\n"
          ]
        }
      ],
      "source": [
        "print(list_enemies)"
      ]
    },
    {
      "cell_type": "code",
      "execution_count": null,
      "id": "a8a3fe70-0912-4b6b-a9d7-ca55965e4be8",
      "metadata": {
        "id": "a8a3fe70-0912-4b6b-a9d7-ca55965e4be8",
        "outputId": "70f9e29f-3db9-4ea5-acbe-3e1bd534efb1"
      },
      "outputs": [
        {
          "name": "stdout",
          "output_type": "stream",
          "text": [
            "['water', 'purgatory', 'spicy food', 'sun', 'light magic']\n"
          ]
        }
      ],
      "source": [
        "list_enemies.pop(5)\n",
        "print(list_enemies)"
      ]
    },
    {
      "cell_type": "code",
      "execution_count": null,
      "id": "191e9ab1-8b36-451b-a293-447bd9d75b0a",
      "metadata": {
        "id": "191e9ab1-8b36-451b-a293-447bd9d75b0a",
        "outputId": "36b84e70-971f-4a6d-a453-ac53135dc001"
      },
      "outputs": [
        {
          "name": "stdout",
          "output_type": "stream",
          "text": [
            "['purgatory', 'spicy food', 'sun', 'light magic']\n"
          ]
        }
      ],
      "source": [
        "list_enemies.remove('water')\n",
        "print(list_enemies)"
      ]
    },
    {
      "cell_type": "code",
      "execution_count": null,
      "id": "db9573ba-9dc6-4014-a6db-6e4e81a5c751",
      "metadata": {
        "id": "db9573ba-9dc6-4014-a6db-6e4e81a5c751",
        "outputId": "71d69f44-0db8-44ab-e383-af24b5ed8270"
      },
      "outputs": [
        {
          "name": "stdout",
          "output_type": "stream",
          "text": [
            "['light magic', 'sun', 'spicy food', 'purgatory']\n"
          ]
        }
      ],
      "source": [
        "list_enemies.reverse()\n",
        "print(list_enemies)"
      ]
    },
    {
      "cell_type": "code",
      "execution_count": null,
      "id": "d205491b-e81a-43da-a7f4-1a88b931f98b",
      "metadata": {
        "id": "d205491b-e81a-43da-a7f4-1a88b931f98b",
        "outputId": "792f63d7-889e-4794-e8b5-b3dfe98eead6"
      },
      "outputs": [
        {
          "name": "stdout",
          "output_type": "stream",
          "text": [
            "['light magic', 'sun', 'spicy food', 'purgatory']\n"
          ]
        }
      ],
      "source": [
        "list_enemies_02 = list_enemies.copy()\n",
        "print(list_enemies_02)"
      ]
    },
    {
      "cell_type": "code",
      "execution_count": null,
      "id": "811cdb51-b52e-43af-9735-024a654c9088",
      "metadata": {
        "id": "811cdb51-b52e-43af-9735-024a654c9088"
      },
      "outputs": [],
      "source": [
        "#end practice list"
      ]
    },
    {
      "cell_type": "code",
      "execution_count": null,
      "id": "22fc32b5-890a-4c46-92e3-fcc3a76d0bf8",
      "metadata": {
        "id": "22fc32b5-890a-4c46-92e3-fcc3a76d0bf8"
      },
      "outputs": [],
      "source": []
    }
  ],
  "metadata": {
    "kernelspec": {
      "display_name": "Python 3 (ipykernel)",
      "language": "python",
      "name": "python3"
    },
    "language_info": {
      "codemirror_mode": {
        "name": "ipython",
        "version": 3
      },
      "file_extension": ".py",
      "mimetype": "text/x-python",
      "name": "python",
      "nbconvert_exporter": "python",
      "pygments_lexer": "ipython3",
      "version": "3.13.7"
    },
    "colab": {
      "provenance": [],
      "include_colab_link": true
    }
  },
  "nbformat": 4,
  "nbformat_minor": 5
}
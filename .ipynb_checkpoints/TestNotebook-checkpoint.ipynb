{
 "cells": [
  {
   "cell_type": "code",
   "execution_count": 1,
   "id": "initial_id",
   "metadata": {},
   "outputs": [
    {
     "name": "stdout",
     "output_type": "stream",
     "text": [
      "worried if i did this correctly.\n"
     ]
    }
   ],
   "source": [
    "print(\"worried if i did this correctly.\")"
   ]
  },
  {
   "cell_type": "code",
   "execution_count": 3,
   "id": "252e8e77-34e5-48c4-a63f-fc235be0764d",
   "metadata": {},
   "outputs": [
    {
     "name": "stdout",
     "output_type": "stream",
     "text": [
      "['drinking too much oj', 'incense sticks', 'purgatory']\n"
     ]
    }
   ],
   "source": [
    "list_mistakes = ['drinking too much oj', 'incense sticks', 'purgatory']\n",
    "print(list_mistakes)"
   ]
  },
  {
   "cell_type": "code",
   "execution_count": 5,
   "id": "f7ed1ead-0433-4242-8017-7e71cd80e702",
   "metadata": {},
   "outputs": [
    {
     "name": "stdout",
     "output_type": "stream",
     "text": [
      "['drinking too much oj', 'incense sticks', 'purgatory', 'start drinking coffee earilier in life']\n"
     ]
    }
   ],
   "source": [
    "list_mistakes.append('start drinking coffee earilier in life')\n",
    "print(list_mistakes)"
   ]
  },
  {
   "cell_type": "code",
   "execution_count": null,
   "id": "45c8db22-4211-4718-875c-fa4b8a853aff",
   "metadata": {},
   "outputs": [],
   "source": []
  }
 ],
 "metadata": {
  "kernelspec": {
   "display_name": "Python 3 (ipykernel)",
   "language": "python",
   "name": "python3"
  },
  "language_info": {
   "codemirror_mode": {
    "name": "ipython",
    "version": 3
   },
   "file_extension": ".py",
   "mimetype": "text/x-python",
   "name": "python",
   "nbconvert_exporter": "python",
   "pygments_lexer": "ipython3",
   "version": "3.13.7"
  }
 },
 "nbformat": 4,
 "nbformat_minor": 5
}
